{
 "cells": [
  {
   "cell_type": "markdown",
   "id": "56d8ea99",
   "metadata": {
    "ExecuteTime": {
     "end_time": "2023-07-10T14:09:41.606841Z",
     "start_time": "2023-07-10T14:09:41.603868Z"
    }
   },
   "source": [
    "  # Importing package\n",
    "  <hr style = \"border:2px solid black\" ></hr>"
   ]
  },
  {
   "cell_type": "code",
   "execution_count": 1,
   "id": "8b91f81b",
   "metadata": {
    "ExecuteTime": {
     "end_time": "2023-07-10T14:38:10.412979Z",
     "start_time": "2023-07-10T14:38:10.408985Z"
    }
   },
   "outputs": [],
   "source": [
    "import my_package_name"
   ]
  },
  {
   "cell_type": "code",
   "execution_count": 2,
   "id": "dd2bc60e",
   "metadata": {
    "ExecuteTime": {
     "end_time": "2023-07-10T14:38:10.423649Z",
     "start_time": "2023-07-10T14:38:10.415427Z"
    }
   },
   "outputs": [
    {
     "data": {
      "text/plain": [
       "['__builtins__',\n",
       " '__cached__',\n",
       " '__doc__',\n",
       " '__file__',\n",
       " '__loader__',\n",
       " '__name__',\n",
       " '__package__',\n",
       " '__path__',\n",
       " '__spec__']"
      ]
     },
     "execution_count": 2,
     "metadata": {},
     "output_type": "execute_result"
    }
   ],
   "source": [
    "dir(my_package_name)"
   ]
  },
  {
   "cell_type": "code",
   "execution_count": 3,
   "id": "b26d1c76",
   "metadata": {
    "ExecuteTime": {
     "end_time": "2023-07-10T14:38:10.431279Z",
     "start_time": "2023-07-10T14:38:10.427299Z"
    }
   },
   "outputs": [
    {
     "data": {
      "text/plain": [
       "'my_package_name'"
      ]
     },
     "execution_count": 3,
     "metadata": {},
     "output_type": "execute_result"
    }
   ],
   "source": [
    "my_package_name.__name__"
   ]
  },
  {
   "cell_type": "code",
   "execution_count": 4,
   "id": "d65d08c5",
   "metadata": {
    "ExecuteTime": {
     "end_time": "2023-07-10T14:38:10.438749Z",
     "start_time": "2023-07-10T14:38:10.434082Z"
    }
   },
   "outputs": [
    {
     "data": {
      "text/plain": [
       "'my_package_name'"
      ]
     },
     "execution_count": 4,
     "metadata": {},
     "output_type": "execute_result"
    }
   ],
   "source": [
    "my_package_name.__package__"
   ]
  },
  {
   "cell_type": "markdown",
   "id": "86c9bc01",
   "metadata": {},
   "source": [
    "# Importing module\n",
    "<hr style = \"border:2px solid black\" ></hr>"
   ]
  },
  {
   "cell_type": "code",
   "execution_count": 5,
   "id": "79c17ea8",
   "metadata": {
    "ExecuteTime": {
     "end_time": "2023-07-10T14:38:10.446172Z",
     "start_time": "2023-07-10T14:38:10.441180Z"
    }
   },
   "outputs": [],
   "source": [
    "from my_package_name import module_template"
   ]
  },
  {
   "cell_type": "code",
   "execution_count": 6,
   "id": "eae73a40",
   "metadata": {
    "ExecuteTime": {
     "end_time": "2023-07-10T14:38:10.453047Z",
     "start_time": "2023-07-10T14:38:10.448683Z"
    }
   },
   "outputs": [
    {
     "data": {
      "text/plain": [
       "['Car',\n",
       " 'Motorcycle',\n",
       " 'Truck',\n",
       " 'Vehicle',\n",
       " '__builtins__',\n",
       " '__cached__',\n",
       " '__doc__',\n",
       " '__file__',\n",
       " '__loader__',\n",
       " '__name__',\n",
       " '__package__',\n",
       " '__spec__',\n",
       " 'abc']"
      ]
     },
     "execution_count": 6,
     "metadata": {},
     "output_type": "execute_result"
    }
   ],
   "source": [
    "dir(module_template)"
   ]
  },
  {
   "cell_type": "markdown",
   "id": "6303aa90",
   "metadata": {},
   "source": [
    " # Importing Class\n",
    " <hr style = \"border:2px solid black\" ></hr>"
   ]
  },
  {
   "cell_type": "markdown",
   "id": "6f8837ff",
   "metadata": {},
   "source": [
    "```python\n",
    "# Vary bad\n",
    "from my_package_name.module_template import *\n",
    "# Beter\n",
    "from my_package_name.module_template import Car\n",
    "# Best\n",
    "from my_package_name import module_template\n",
    "```"
   ]
  },
  {
   "cell_type": "code",
   "execution_count": 7,
   "id": "0387f733",
   "metadata": {
    "ExecuteTime": {
     "end_time": "2023-07-10T14:38:10.460832Z",
     "start_time": "2023-07-10T14:38:10.456927Z"
    }
   },
   "outputs": [],
   "source": [
    "from my_package_name import module_template"
   ]
  },
  {
   "cell_type": "code",
   "execution_count": 9,
   "id": "37d9382f",
   "metadata": {
    "ExecuteTime": {
     "end_time": "2023-07-10T14:38:19.522801Z",
     "start_time": "2023-07-10T14:38:19.520013Z"
    }
   },
   "outputs": [],
   "source": [
    "car = module_template.Car(1000, \"Honda\", \"Accord\", 2014)"
   ]
  },
  {
   "cell_type": "code",
   "execution_count": 10,
   "id": "916f0439",
   "metadata": {
    "ExecuteTime": {
     "end_time": "2023-07-10T14:38:19.925651Z",
     "start_time": "2023-07-10T14:38:19.921714Z"
    }
   },
   "outputs": [
    {
     "data": {
      "text/plain": [
       "<my_package_name.module_template.Car at 0x7fb59588f400>"
      ]
     },
     "execution_count": 10,
     "metadata": {},
     "output_type": "execute_result"
    }
   ],
   "source": [
    "car"
   ]
  },
  {
   "cell_type": "markdown",
   "id": "73c896eb",
   "metadata": {},
   "source": [
    "- [Python project template](https://github.com/kyaiooiayk/Python-project-template)\n",
    "- [Structuring Your Project](https://docs.python-guide.org/writing/structure/)"
   ]
  },
  {
   "cell_type": "markdown",
   "id": "5e98e885",
   "metadata": {},
   "source": [
    "# Abstract and virtual abstract class\n",
    "<hr style = \"border:2px solid black\" ></hr>"
   ]
  },
  {
   "cell_type": "code",
   "execution_count": 11,
   "id": "8ad097a0",
   "metadata": {
    "ExecuteTime": {
     "end_time": "2023-07-10T14:38:21.928213Z",
     "start_time": "2023-07-10T14:38:21.924707Z"
    }
   },
   "outputs": [],
   "source": [
    "from my_package_name.module_template import Vehicle, Car"
   ]
  },
  {
   "cell_type": "code",
   "execution_count": 12,
   "id": "cb651478",
   "metadata": {
    "ExecuteTime": {
     "end_time": "2023-07-10T14:38:22.311806Z",
     "start_time": "2023-07-10T14:38:22.307559Z"
    },
    "scrolled": true
   },
   "outputs": [
    {
     "data": {
      "text/plain": [
       "frozenset({'vehicle_type'})"
      ]
     },
     "execution_count": 12,
     "metadata": {},
     "output_type": "execute_result"
    }
   ],
   "source": [
    "# Check if class is abstract? if is not emtpy, it is, otherwise no\n",
    "Vehicle.__abstractmethods__"
   ]
  },
  {
   "cell_type": "code",
   "execution_count": 13,
   "id": "2908b032",
   "metadata": {
    "ExecuteTime": {
     "end_time": "2023-07-10T14:38:22.650474Z",
     "start_time": "2023-07-10T14:38:22.646913Z"
    },
    "scrolled": true
   },
   "outputs": [
    {
     "data": {
      "text/plain": [
       "frozenset()"
      ]
     },
     "execution_count": 13,
     "metadata": {},
     "output_type": "execute_result"
    }
   ],
   "source": [
    "# Check if class is abstract? if is not emtpy, it is, otherwise no\n",
    "Car.__abstractmethods__"
   ]
  },
  {
   "cell_type": "code",
   "execution_count": 14,
   "id": "321ad41b",
   "metadata": {
    "ExecuteTime": {
     "end_time": "2023-07-10T14:38:23.087227Z",
     "start_time": "2023-07-10T14:38:23.071829Z"
    }
   },
   "outputs": [
    {
     "ename": "TypeError",
     "evalue": "Can't instantiate abstract class Vehicle with abstract methods vehicle_type",
     "output_type": "error",
     "traceback": [
      "\u001b[0;31m---------------------------------------------------------------------------\u001b[0m",
      "\u001b[0;31mTypeError\u001b[0m                                 Traceback (most recent call last)",
      "Input \u001b[0;32mIn [14]\u001b[0m, in \u001b[0;36m<cell line: 2>\u001b[0;34m()\u001b[0m\n\u001b[1;32m      1\u001b[0m \u001b[38;5;66;03m# Now you can see how this will throw an error. This ie exactely what we wanted\u001b[39;00m\n\u001b[0;32m----> 2\u001b[0m vehicke \u001b[38;5;241m=\u001b[39m \u001b[43mVehicle\u001b[49m\u001b[43m(\u001b[49m\u001b[38;5;241;43m0\u001b[39;49m\u001b[43m,\u001b[49m\u001b[43m \u001b[49m\u001b[38;5;124;43m\"\u001b[39;49m\u001b[38;5;124;43mHonda\u001b[39;49m\u001b[38;5;124;43m\"\u001b[39;49m\u001b[43m,\u001b[49m\u001b[43m \u001b[49m\u001b[38;5;124;43m\"\u001b[39;49m\u001b[38;5;124;43mAccord\u001b[39;49m\u001b[38;5;124;43m\"\u001b[39;49m\u001b[43m,\u001b[49m\u001b[43m \u001b[49m\u001b[38;5;241;43m2014\u001b[39;49m\u001b[43m)\u001b[49m\n",
      "\u001b[0;31mTypeError\u001b[0m: Can't instantiate abstract class Vehicle with abstract methods vehicle_type"
     ]
    }
   ],
   "source": [
    "# Now you can see how this will throw an error. This ie exactely what we wanted\n",
    "vehicke = Vehicle(0, \"Honda\", \"Accord\", 2014)"
   ]
  },
  {
   "cell_type": "code",
   "execution_count": 1,
   "id": "d25a6bfa",
   "metadata": {
    "ExecuteTime": {
     "end_time": "2023-07-10T14:42:07.619692Z",
     "start_time": "2023-07-10T14:42:07.615496Z"
    }
   },
   "outputs": [],
   "source": [
    "from my_package_name import module_template\n",
    "car = module_template.Car(1000, \"Honda\", \"Accord\", 2014)\n",
    "motorcycle = module_template.Motorcycle(2000, \"Ducati\", \"\", 2014)"
   ]
  },
  {
   "cell_type": "code",
   "execution_count": 4,
   "id": "5a0de769",
   "metadata": {
    "ExecuteTime": {
     "end_time": "2023-07-10T14:42:22.481851Z",
     "start_time": "2023-07-10T14:42:22.478583Z"
    },
    "scrolled": true
   },
   "outputs": [
    {
     "name": "stdout",
     "output_type": "stream",
     "text": [
      "4\n",
      "8000\n"
     ]
    }
   ],
   "source": [
    "# Base class attributes - hence specific of the car class\n",
    "print(car.wheels)\n",
    "print(car.based_sale_price)"
   ]
  },
  {
   "cell_type": "code",
   "execution_count": 3,
   "id": "b792c732",
   "metadata": {
    "ExecuteTime": {
     "end_time": "2023-07-10T14:42:09.005828Z",
     "start_time": "2023-07-10T14:42:09.001593Z"
    }
   },
   "outputs": [
    {
     "data": {
      "text/plain": [
       "20000.0"
      ]
     },
     "execution_count": 3,
     "metadata": {},
     "output_type": "execute_result"
    }
   ],
   "source": [
    "car.sale_price()"
   ]
  },
  {
   "cell_type": "markdown",
   "id": "bf846470",
   "metadata": {},
   "source": [
    "- [What is an virtual abstract method](https://github.com/kyaiooiayk/Awesome-Python-Programming-Notes/blob/main/tutorials/Abstract%20and%20virtual%20abstract%20class.ipynb)"
   ]
  },
  {
   "cell_type": "code",
   "execution_count": null,
   "id": "365b2d73",
   "metadata": {},
   "outputs": [],
   "source": []
  }
 ],
 "metadata": {
  "kernelspec": {
   "display_name": "mlops",
   "language": "python",
   "name": "mlops"
  },
  "language_info": {
   "codemirror_mode": {
    "name": "ipython",
    "version": 3
   },
   "file_extension": ".py",
   "mimetype": "text/x-python",
   "name": "python",
   "nbconvert_exporter": "python",
   "pygments_lexer": "ipython3",
   "version": "3.8.16"
  },
  "toc": {
   "base_numbering": 1,
   "nav_menu": {},
   "number_sections": true,
   "sideBar": true,
   "skip_h1_title": false,
   "title_cell": "Table of Contents",
   "title_sidebar": "Contents",
   "toc_cell": true,
   "toc_position": {
    "height": "calc(100% - 180px)",
    "left": "10px",
    "top": "150px",
    "width": "220px"
   },
   "toc_section_display": true,
   "toc_window_display": true
  },
  "varInspector": {
   "cols": {
    "lenName": 16,
    "lenType": 16,
    "lenVar": 40
   },
   "kernels_config": {
    "python": {
     "delete_cmd_postfix": "",
     "delete_cmd_prefix": "del ",
     "library": "var_list.py",
     "varRefreshCmd": "print(var_dic_list())"
    },
    "r": {
     "delete_cmd_postfix": ") ",
     "delete_cmd_prefix": "rm(",
     "library": "var_list.r",
     "varRefreshCmd": "cat(var_dic_list()) "
    }
   },
   "types_to_exclude": [
    "module",
    "function",
    "builtin_function_or_method",
    "instance",
    "_Feature"
   ],
   "window_display": false
  }
 },
 "nbformat": 4,
 "nbformat_minor": 5
}
